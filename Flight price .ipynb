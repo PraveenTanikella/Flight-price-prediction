{
 "cells": [
  {
   "cell_type": "markdown",
   "id": "85d8d9e4",
   "metadata": {},
   "source": [
    "# **Flight Price Prediction**\n",
    "\n",
    "**Problem Statement:**\n",
    "\n",
    "Flight ticket prices can be something hard to guess, today we might see a price, check out the price of the same flight tomorrow, it will be a different story. We might have often heard travellers saying that flight ticket prices are so unpredictable. Here you will be provided with prices of flight tickets for various airlines between the months of March and June of 2019 and between various cities.\n",
    "\n",
    "Size of training set: 10683 records\n",
    "\n",
    "Size of test set: 2671 records\n",
    "\n",
    "FEATURES:\n",
    "Airline: The name of the airline.\n",
    "\n",
    "Date_of_Journey: The date of the journey\n",
    "\n",
    "Source: The source from which the service begins.\n",
    "\n",
    "Destination: The destination where the service ends.\n",
    "\n",
    "Route: The route taken by the flight to reach the destination.\n",
    "\n",
    "Dep_Time: The time when the journey starts from the source.\n",
    "\n",
    "Arrival_Time: Time of arrival at the destination.\n",
    "\n",
    "Duration: Total duration of the flight.\n",
    "\n",
    "Total_Stops: Total stops between the source and destination.\n",
    "\n",
    "Additional_Info: Additional information about the flight\n",
    "\n",
    "Price: The price of the ticket"
   ]
  },
  {
   "cell_type": "code",
   "execution_count": 1,
   "id": "d9cbe750",
   "metadata": {},
   "outputs": [],
   "source": [
    "import pandas as pd\n",
    "import numpy as np\n",
    "import matplotlib.pyplot as plt              #for plotting and EDA\n",
    "import seaborn as sns                        #for plotting and Eda\n",
    "from sklearn.model_selection import train_test_split         #for splitting dataset into train and test\n",
    "from sklearn.metrics import r2_score                         #for model evaluation\n",
    "from sklearn.metrics import mean_squared_error               #for model evaluation\n",
    "from sklearn.metrics import mean_absolute_error              #for checking model accuracy\n",
    "from sklearn.linear_model import LinearRegression            #regression model\n",
    "from sklearn.tree import DecisionTreeRegressor               #regression model\n",
    "from sklearn.ensemble import RandomForestRegressor           #regression model\n",
    "from sklearn.model_selection import cross_val_score          #for cross validating model\n",
    "import warnings\n",
    "warnings.filterwarnings('ignore')"
   ]
  },
  {
   "cell_type": "code",
   "execution_count": 2,
   "id": "ca9d7323",
   "metadata": {},
   "outputs": [],
   "source": [
    "train = pd.read_excel('Data_Train.xlsx')\n",
    "test = pd.read_excel('Test_set.xlsx')"
   ]
  },
  {
   "cell_type": "code",
   "execution_count": 3,
   "id": "5155c41b",
   "metadata": {},
   "outputs": [
    {
     "data": {
      "text/html": [
       "<div>\n",
       "<style scoped>\n",
       "    .dataframe tbody tr th:only-of-type {\n",
       "        vertical-align: middle;\n",
       "    }\n",
       "\n",
       "    .dataframe tbody tr th {\n",
       "        vertical-align: top;\n",
       "    }\n",
       "\n",
       "    .dataframe thead th {\n",
       "        text-align: right;\n",
       "    }\n",
       "</style>\n",
       "<table border=\"1\" class=\"dataframe\">\n",
       "  <thead>\n",
       "    <tr style=\"text-align: right;\">\n",
       "      <th></th>\n",
       "      <th>Airline</th>\n",
       "      <th>Date_of_Journey</th>\n",
       "      <th>Source</th>\n",
       "      <th>Destination</th>\n",
       "      <th>Route</th>\n",
       "      <th>Dep_Time</th>\n",
       "      <th>Arrival_Time</th>\n",
       "      <th>Duration</th>\n",
       "      <th>Total_Stops</th>\n",
       "      <th>Additional_Info</th>\n",
       "      <th>Price</th>\n",
       "    </tr>\n",
       "  </thead>\n",
       "  <tbody>\n",
       "    <tr>\n",
       "      <th>0</th>\n",
       "      <td>IndiGo</td>\n",
       "      <td>24/03/2019</td>\n",
       "      <td>Banglore</td>\n",
       "      <td>New Delhi</td>\n",
       "      <td>BLR → DEL</td>\n",
       "      <td>22:20</td>\n",
       "      <td>01:10 22 Mar</td>\n",
       "      <td>2h 50m</td>\n",
       "      <td>non-stop</td>\n",
       "      <td>No info</td>\n",
       "      <td>3897</td>\n",
       "    </tr>\n",
       "    <tr>\n",
       "      <th>1</th>\n",
       "      <td>Air India</td>\n",
       "      <td>1/05/2019</td>\n",
       "      <td>Kolkata</td>\n",
       "      <td>Banglore</td>\n",
       "      <td>CCU → IXR → BBI → BLR</td>\n",
       "      <td>05:50</td>\n",
       "      <td>13:15</td>\n",
       "      <td>7h 25m</td>\n",
       "      <td>2 stops</td>\n",
       "      <td>No info</td>\n",
       "      <td>7662</td>\n",
       "    </tr>\n",
       "    <tr>\n",
       "      <th>2</th>\n",
       "      <td>Jet Airways</td>\n",
       "      <td>9/06/2019</td>\n",
       "      <td>Delhi</td>\n",
       "      <td>Cochin</td>\n",
       "      <td>DEL → LKO → BOM → COK</td>\n",
       "      <td>09:25</td>\n",
       "      <td>04:25 10 Jun</td>\n",
       "      <td>19h</td>\n",
       "      <td>2 stops</td>\n",
       "      <td>No info</td>\n",
       "      <td>13882</td>\n",
       "    </tr>\n",
       "    <tr>\n",
       "      <th>3</th>\n",
       "      <td>IndiGo</td>\n",
       "      <td>12/05/2019</td>\n",
       "      <td>Kolkata</td>\n",
       "      <td>Banglore</td>\n",
       "      <td>CCU → NAG → BLR</td>\n",
       "      <td>18:05</td>\n",
       "      <td>23:30</td>\n",
       "      <td>5h 25m</td>\n",
       "      <td>1 stop</td>\n",
       "      <td>No info</td>\n",
       "      <td>6218</td>\n",
       "    </tr>\n",
       "    <tr>\n",
       "      <th>4</th>\n",
       "      <td>IndiGo</td>\n",
       "      <td>01/03/2019</td>\n",
       "      <td>Banglore</td>\n",
       "      <td>New Delhi</td>\n",
       "      <td>BLR → NAG → DEL</td>\n",
       "      <td>16:50</td>\n",
       "      <td>21:35</td>\n",
       "      <td>4h 45m</td>\n",
       "      <td>1 stop</td>\n",
       "      <td>No info</td>\n",
       "      <td>13302</td>\n",
       "    </tr>\n",
       "    <tr>\n",
       "      <th>5</th>\n",
       "      <td>SpiceJet</td>\n",
       "      <td>24/06/2019</td>\n",
       "      <td>Kolkata</td>\n",
       "      <td>Banglore</td>\n",
       "      <td>CCU → BLR</td>\n",
       "      <td>09:00</td>\n",
       "      <td>11:25</td>\n",
       "      <td>2h 25m</td>\n",
       "      <td>non-stop</td>\n",
       "      <td>No info</td>\n",
       "      <td>3873</td>\n",
       "    </tr>\n",
       "    <tr>\n",
       "      <th>6</th>\n",
       "      <td>Jet Airways</td>\n",
       "      <td>12/03/2019</td>\n",
       "      <td>Banglore</td>\n",
       "      <td>New Delhi</td>\n",
       "      <td>BLR → BOM → DEL</td>\n",
       "      <td>18:55</td>\n",
       "      <td>10:25 13 Mar</td>\n",
       "      <td>15h 30m</td>\n",
       "      <td>1 stop</td>\n",
       "      <td>In-flight meal not included</td>\n",
       "      <td>11087</td>\n",
       "    </tr>\n",
       "    <tr>\n",
       "      <th>7</th>\n",
       "      <td>Jet Airways</td>\n",
       "      <td>01/03/2019</td>\n",
       "      <td>Banglore</td>\n",
       "      <td>New Delhi</td>\n",
       "      <td>BLR → BOM → DEL</td>\n",
       "      <td>08:00</td>\n",
       "      <td>05:05 02 Mar</td>\n",
       "      <td>21h 5m</td>\n",
       "      <td>1 stop</td>\n",
       "      <td>No info</td>\n",
       "      <td>22270</td>\n",
       "    </tr>\n",
       "    <tr>\n",
       "      <th>8</th>\n",
       "      <td>Jet Airways</td>\n",
       "      <td>12/03/2019</td>\n",
       "      <td>Banglore</td>\n",
       "      <td>New Delhi</td>\n",
       "      <td>BLR → BOM → DEL</td>\n",
       "      <td>08:55</td>\n",
       "      <td>10:25 13 Mar</td>\n",
       "      <td>25h 30m</td>\n",
       "      <td>1 stop</td>\n",
       "      <td>In-flight meal not included</td>\n",
       "      <td>11087</td>\n",
       "    </tr>\n",
       "    <tr>\n",
       "      <th>9</th>\n",
       "      <td>Multiple carriers</td>\n",
       "      <td>27/05/2019</td>\n",
       "      <td>Delhi</td>\n",
       "      <td>Cochin</td>\n",
       "      <td>DEL → BOM → COK</td>\n",
       "      <td>11:25</td>\n",
       "      <td>19:15</td>\n",
       "      <td>7h 50m</td>\n",
       "      <td>1 stop</td>\n",
       "      <td>No info</td>\n",
       "      <td>8625</td>\n",
       "    </tr>\n",
       "  </tbody>\n",
       "</table>\n",
       "</div>"
      ],
      "text/plain": [
       "             Airline Date_of_Journey    Source Destination  \\\n",
       "0             IndiGo      24/03/2019  Banglore   New Delhi   \n",
       "1          Air India       1/05/2019   Kolkata    Banglore   \n",
       "2        Jet Airways       9/06/2019     Delhi      Cochin   \n",
       "3             IndiGo      12/05/2019   Kolkata    Banglore   \n",
       "4             IndiGo      01/03/2019  Banglore   New Delhi   \n",
       "5           SpiceJet      24/06/2019   Kolkata    Banglore   \n",
       "6        Jet Airways      12/03/2019  Banglore   New Delhi   \n",
       "7        Jet Airways      01/03/2019  Banglore   New Delhi   \n",
       "8        Jet Airways      12/03/2019  Banglore   New Delhi   \n",
       "9  Multiple carriers      27/05/2019     Delhi      Cochin   \n",
       "\n",
       "                   Route Dep_Time  Arrival_Time Duration Total_Stops  \\\n",
       "0              BLR → DEL    22:20  01:10 22 Mar   2h 50m    non-stop   \n",
       "1  CCU → IXR → BBI → BLR    05:50         13:15   7h 25m     2 stops   \n",
       "2  DEL → LKO → BOM → COK    09:25  04:25 10 Jun      19h     2 stops   \n",
       "3        CCU → NAG → BLR    18:05         23:30   5h 25m      1 stop   \n",
       "4        BLR → NAG → DEL    16:50         21:35   4h 45m      1 stop   \n",
       "5              CCU → BLR    09:00         11:25   2h 25m    non-stop   \n",
       "6        BLR → BOM → DEL    18:55  10:25 13 Mar  15h 30m      1 stop   \n",
       "7        BLR → BOM → DEL    08:00  05:05 02 Mar   21h 5m      1 stop   \n",
       "8        BLR → BOM → DEL    08:55  10:25 13 Mar  25h 30m      1 stop   \n",
       "9        DEL → BOM → COK    11:25         19:15   7h 50m      1 stop   \n",
       "\n",
       "               Additional_Info  Price  \n",
       "0                      No info   3897  \n",
       "1                      No info   7662  \n",
       "2                      No info  13882  \n",
       "3                      No info   6218  \n",
       "4                      No info  13302  \n",
       "5                      No info   3873  \n",
       "6  In-flight meal not included  11087  \n",
       "7                      No info  22270  \n",
       "8  In-flight meal not included  11087  \n",
       "9                      No info   8625  "
      ]
     },
     "execution_count": 3,
     "metadata": {},
     "output_type": "execute_result"
    }
   ],
   "source": [
    "train.head(10)"
   ]
  },
  {
   "cell_type": "code",
   "execution_count": 4,
   "id": "289ed446",
   "metadata": {},
   "outputs": [
    {
     "data": {
      "text/plain": [
       "(10683, 11)"
      ]
     },
     "execution_count": 4,
     "metadata": {},
     "output_type": "execute_result"
    }
   ],
   "source": [
    "train.shape"
   ]
  },
  {
   "cell_type": "markdown",
   "id": "92f1ea0b",
   "metadata": {},
   "source": [
    "This train data contains 1083 rows & 11 columns"
   ]
  },
  {
   "cell_type": "code",
   "execution_count": 5,
   "id": "f53b9e2b",
   "metadata": {},
   "outputs": [
    {
     "data": {
      "text/plain": [
       "Index(['Airline', 'Date_of_Journey', 'Source', 'Destination', 'Route',\n",
       "       'Dep_Time', 'Arrival_Time', 'Duration', 'Total_Stops',\n",
       "       'Additional_Info', 'Price'],\n",
       "      dtype='object')"
      ]
     },
     "execution_count": 5,
     "metadata": {},
     "output_type": "execute_result"
    }
   ],
   "source": [
    "train.columns"
   ]
  },
  {
   "cell_type": "code",
   "execution_count": 6,
   "id": "1b3494e9",
   "metadata": {},
   "outputs": [
    {
     "name": "stdout",
     "output_type": "stream",
     "text": [
      "<class 'pandas.core.frame.DataFrame'>\n",
      "RangeIndex: 10683 entries, 0 to 10682\n",
      "Data columns (total 11 columns):\n",
      " #   Column           Non-Null Count  Dtype \n",
      "---  ------           --------------  ----- \n",
      " 0   Airline          10683 non-null  object\n",
      " 1   Date_of_Journey  10683 non-null  object\n",
      " 2   Source           10683 non-null  object\n",
      " 3   Destination      10683 non-null  object\n",
      " 4   Route            10682 non-null  object\n",
      " 5   Dep_Time         10683 non-null  object\n",
      " 6   Arrival_Time     10683 non-null  object\n",
      " 7   Duration         10683 non-null  object\n",
      " 8   Total_Stops      10682 non-null  object\n",
      " 9   Additional_Info  10683 non-null  object\n",
      " 10  Price            10683 non-null  int64 \n",
      "dtypes: int64(1), object(10)\n",
      "memory usage: 918.2+ KB\n"
     ]
    }
   ],
   "source": [
    "train.info()"
   ]
  },
  {
   "cell_type": "code",
   "execution_count": 7,
   "id": "c81d2939",
   "metadata": {},
   "outputs": [
    {
     "data": {
      "text/html": [
       "<div>\n",
       "<style scoped>\n",
       "    .dataframe tbody tr th:only-of-type {\n",
       "        vertical-align: middle;\n",
       "    }\n",
       "\n",
       "    .dataframe tbody tr th {\n",
       "        vertical-align: top;\n",
       "    }\n",
       "\n",
       "    .dataframe thead th {\n",
       "        text-align: right;\n",
       "    }\n",
       "</style>\n",
       "<table border=\"1\" class=\"dataframe\">\n",
       "  <thead>\n",
       "    <tr style=\"text-align: right;\">\n",
       "      <th></th>\n",
       "      <th>Airline</th>\n",
       "      <th>Date_of_Journey</th>\n",
       "      <th>Source</th>\n",
       "      <th>Destination</th>\n",
       "      <th>Route</th>\n",
       "      <th>Dep_Time</th>\n",
       "      <th>Arrival_Time</th>\n",
       "      <th>Duration</th>\n",
       "      <th>Total_Stops</th>\n",
       "      <th>Additional_Info</th>\n",
       "    </tr>\n",
       "  </thead>\n",
       "  <tbody>\n",
       "    <tr>\n",
       "      <th>0</th>\n",
       "      <td>Jet Airways</td>\n",
       "      <td>6/06/2019</td>\n",
       "      <td>Delhi</td>\n",
       "      <td>Cochin</td>\n",
       "      <td>DEL → BOM → COK</td>\n",
       "      <td>17:30</td>\n",
       "      <td>04:25 07 Jun</td>\n",
       "      <td>10h 55m</td>\n",
       "      <td>1 stop</td>\n",
       "      <td>No info</td>\n",
       "    </tr>\n",
       "    <tr>\n",
       "      <th>1</th>\n",
       "      <td>IndiGo</td>\n",
       "      <td>12/05/2019</td>\n",
       "      <td>Kolkata</td>\n",
       "      <td>Banglore</td>\n",
       "      <td>CCU → MAA → BLR</td>\n",
       "      <td>06:20</td>\n",
       "      <td>10:20</td>\n",
       "      <td>4h</td>\n",
       "      <td>1 stop</td>\n",
       "      <td>No info</td>\n",
       "    </tr>\n",
       "    <tr>\n",
       "      <th>2</th>\n",
       "      <td>Jet Airways</td>\n",
       "      <td>21/05/2019</td>\n",
       "      <td>Delhi</td>\n",
       "      <td>Cochin</td>\n",
       "      <td>DEL → BOM → COK</td>\n",
       "      <td>19:15</td>\n",
       "      <td>19:00 22 May</td>\n",
       "      <td>23h 45m</td>\n",
       "      <td>1 stop</td>\n",
       "      <td>In-flight meal not included</td>\n",
       "    </tr>\n",
       "    <tr>\n",
       "      <th>3</th>\n",
       "      <td>Multiple carriers</td>\n",
       "      <td>21/05/2019</td>\n",
       "      <td>Delhi</td>\n",
       "      <td>Cochin</td>\n",
       "      <td>DEL → BOM → COK</td>\n",
       "      <td>08:00</td>\n",
       "      <td>21:00</td>\n",
       "      <td>13h</td>\n",
       "      <td>1 stop</td>\n",
       "      <td>No info</td>\n",
       "    </tr>\n",
       "    <tr>\n",
       "      <th>4</th>\n",
       "      <td>Air Asia</td>\n",
       "      <td>24/06/2019</td>\n",
       "      <td>Banglore</td>\n",
       "      <td>Delhi</td>\n",
       "      <td>BLR → DEL</td>\n",
       "      <td>23:55</td>\n",
       "      <td>02:45 25 Jun</td>\n",
       "      <td>2h 50m</td>\n",
       "      <td>non-stop</td>\n",
       "      <td>No info</td>\n",
       "    </tr>\n",
       "    <tr>\n",
       "      <th>5</th>\n",
       "      <td>Jet Airways</td>\n",
       "      <td>12/06/2019</td>\n",
       "      <td>Delhi</td>\n",
       "      <td>Cochin</td>\n",
       "      <td>DEL → BOM → COK</td>\n",
       "      <td>18:15</td>\n",
       "      <td>12:35 13 Jun</td>\n",
       "      <td>18h 20m</td>\n",
       "      <td>1 stop</td>\n",
       "      <td>In-flight meal not included</td>\n",
       "    </tr>\n",
       "    <tr>\n",
       "      <th>6</th>\n",
       "      <td>Air India</td>\n",
       "      <td>12/03/2019</td>\n",
       "      <td>Banglore</td>\n",
       "      <td>New Delhi</td>\n",
       "      <td>BLR → TRV → DEL</td>\n",
       "      <td>07:30</td>\n",
       "      <td>22:35</td>\n",
       "      <td>15h 5m</td>\n",
       "      <td>1 stop</td>\n",
       "      <td>No info</td>\n",
       "    </tr>\n",
       "    <tr>\n",
       "      <th>7</th>\n",
       "      <td>IndiGo</td>\n",
       "      <td>1/05/2019</td>\n",
       "      <td>Kolkata</td>\n",
       "      <td>Banglore</td>\n",
       "      <td>CCU → HYD → BLR</td>\n",
       "      <td>15:15</td>\n",
       "      <td>20:30</td>\n",
       "      <td>5h 15m</td>\n",
       "      <td>1 stop</td>\n",
       "      <td>No info</td>\n",
       "    </tr>\n",
       "    <tr>\n",
       "      <th>8</th>\n",
       "      <td>IndiGo</td>\n",
       "      <td>15/03/2019</td>\n",
       "      <td>Kolkata</td>\n",
       "      <td>Banglore</td>\n",
       "      <td>CCU → BLR</td>\n",
       "      <td>10:10</td>\n",
       "      <td>12:55</td>\n",
       "      <td>2h 45m</td>\n",
       "      <td>non-stop</td>\n",
       "      <td>No info</td>\n",
       "    </tr>\n",
       "    <tr>\n",
       "      <th>9</th>\n",
       "      <td>Jet Airways</td>\n",
       "      <td>18/05/2019</td>\n",
       "      <td>Kolkata</td>\n",
       "      <td>Banglore</td>\n",
       "      <td>CCU → BOM → BLR</td>\n",
       "      <td>16:30</td>\n",
       "      <td>22:35</td>\n",
       "      <td>6h 5m</td>\n",
       "      <td>1 stop</td>\n",
       "      <td>No info</td>\n",
       "    </tr>\n",
       "  </tbody>\n",
       "</table>\n",
       "</div>"
      ],
      "text/plain": [
       "             Airline Date_of_Journey    Source Destination            Route  \\\n",
       "0        Jet Airways       6/06/2019     Delhi      Cochin  DEL → BOM → COK   \n",
       "1             IndiGo      12/05/2019   Kolkata    Banglore  CCU → MAA → BLR   \n",
       "2        Jet Airways      21/05/2019     Delhi      Cochin  DEL → BOM → COK   \n",
       "3  Multiple carriers      21/05/2019     Delhi      Cochin  DEL → BOM → COK   \n",
       "4           Air Asia      24/06/2019  Banglore       Delhi        BLR → DEL   \n",
       "5        Jet Airways      12/06/2019     Delhi      Cochin  DEL → BOM → COK   \n",
       "6          Air India      12/03/2019  Banglore   New Delhi  BLR → TRV → DEL   \n",
       "7             IndiGo       1/05/2019   Kolkata    Banglore  CCU → HYD → BLR   \n",
       "8             IndiGo      15/03/2019   Kolkata    Banglore        CCU → BLR   \n",
       "9        Jet Airways      18/05/2019   Kolkata    Banglore  CCU → BOM → BLR   \n",
       "\n",
       "  Dep_Time  Arrival_Time Duration Total_Stops              Additional_Info  \n",
       "0    17:30  04:25 07 Jun  10h 55m      1 stop                      No info  \n",
       "1    06:20         10:20       4h      1 stop                      No info  \n",
       "2    19:15  19:00 22 May  23h 45m      1 stop  In-flight meal not included  \n",
       "3    08:00         21:00      13h      1 stop                      No info  \n",
       "4    23:55  02:45 25 Jun   2h 50m    non-stop                      No info  \n",
       "5    18:15  12:35 13 Jun  18h 20m      1 stop  In-flight meal not included  \n",
       "6    07:30         22:35   15h 5m      1 stop                      No info  \n",
       "7    15:15         20:30   5h 15m      1 stop                      No info  \n",
       "8    10:10         12:55   2h 45m    non-stop                      No info  \n",
       "9    16:30         22:35    6h 5m      1 stop                      No info  "
      ]
     },
     "execution_count": 7,
     "metadata": {},
     "output_type": "execute_result"
    }
   ],
   "source": [
    "test.head(10)"
   ]
  },
  {
   "cell_type": "code",
   "execution_count": 8,
   "id": "49c48e0e",
   "metadata": {},
   "outputs": [
    {
     "data": {
      "text/plain": [
       "(2671, 10)"
      ]
     },
     "execution_count": 8,
     "metadata": {},
     "output_type": "execute_result"
    }
   ],
   "source": [
    "test.shape"
   ]
  },
  {
   "cell_type": "markdown",
   "id": "f120b6e4",
   "metadata": {},
   "source": [
    "This train data contains 2671 rows & 10 columns"
   ]
  },
  {
   "cell_type": "code",
   "execution_count": 9,
   "id": "8df91f18",
   "metadata": {},
   "outputs": [
    {
     "data": {
      "text/plain": [
       "Index(['Airline', 'Date_of_Journey', 'Source', 'Destination', 'Route',\n",
       "       'Dep_Time', 'Arrival_Time', 'Duration', 'Total_Stops',\n",
       "       'Additional_Info'],\n",
       "      dtype='object')"
      ]
     },
     "execution_count": 9,
     "metadata": {},
     "output_type": "execute_result"
    }
   ],
   "source": [
    "test.columns"
   ]
  },
  {
   "cell_type": "code",
   "execution_count": 10,
   "id": "d65a5f73",
   "metadata": {},
   "outputs": [
    {
     "name": "stdout",
     "output_type": "stream",
     "text": [
      "<class 'pandas.core.frame.DataFrame'>\n",
      "RangeIndex: 2671 entries, 0 to 2670\n",
      "Data columns (total 10 columns):\n",
      " #   Column           Non-Null Count  Dtype \n",
      "---  ------           --------------  ----- \n",
      " 0   Airline          2671 non-null   object\n",
      " 1   Date_of_Journey  2671 non-null   object\n",
      " 2   Source           2671 non-null   object\n",
      " 3   Destination      2671 non-null   object\n",
      " 4   Route            2671 non-null   object\n",
      " 5   Dep_Time         2671 non-null   object\n",
      " 6   Arrival_Time     2671 non-null   object\n",
      " 7   Duration         2671 non-null   object\n",
      " 8   Total_Stops      2671 non-null   object\n",
      " 9   Additional_Info  2671 non-null   object\n",
      "dtypes: object(10)\n",
      "memory usage: 208.8+ KB\n"
     ]
    }
   ],
   "source": [
    "test.info()"
   ]
  },
  {
   "cell_type": "markdown",
   "id": "b07c81da",
   "metadata": {},
   "source": [
    "# Merging the train and test dataset for data cleaning"
   ]
  },
  {
   "cell_type": "markdown",
   "id": "5f840333",
   "metadata": {},
   "source": [
    "Since we have separate train and test datasets, we will approach it by first merging the two datasets into one for exploring and cleaning the data, after all that process we will separate the datasets back to train and test as they were provided."
   ]
  },
  {
   "cell_type": "code",
   "execution_count": 11,
   "id": "d8013790",
   "metadata": {},
   "outputs": [
    {
     "data": {
      "text/plain": [
       "((10683, 12), (2671, 11), (13354, 12))"
      ]
     },
     "execution_count": 11,
     "metadata": {},
     "output_type": "execute_result"
    }
   ],
   "source": [
    "train['source']='train'\n",
    "test['source']='test'\n",
    "df = pd.concat([train, test],ignore_index=True)\n",
    "train.shape, test.shape, df.shape"
   ]
  },
  {
   "cell_type": "markdown",
   "id": "35f328f2",
   "metadata": {},
   "source": [
    "\n",
    "We introduce another column in the two datasets namely 'source', so it will be easy for us to separate the two datasets after data cleaning."
   ]
  },
  {
   "cell_type": "code",
   "execution_count": 12,
   "id": "1744e50a",
   "metadata": {},
   "outputs": [
    {
     "data": {
      "text/plain": [
       "Airline             object\n",
       "Date_of_Journey     object\n",
       "Source              object\n",
       "Destination         object\n",
       "Route               object\n",
       "Dep_Time            object\n",
       "Arrival_Time        object\n",
       "Duration            object\n",
       "Total_Stops         object\n",
       "Additional_Info     object\n",
       "Price              float64\n",
       "source              object\n",
       "dtype: object"
      ]
     },
     "execution_count": 12,
     "metadata": {},
     "output_type": "execute_result"
    }
   ],
   "source": [
    "df.dtypes"
   ]
  },
  {
   "cell_type": "code",
   "execution_count": 13,
   "id": "0f944646",
   "metadata": {},
   "outputs": [
    {
     "data": {
      "text/plain": [
       "Airline              12\n",
       "Date_of_Journey      44\n",
       "Source                5\n",
       "Destination           6\n",
       "Route               133\n",
       "Dep_Time            223\n",
       "Arrival_Time       1451\n",
       "Duration            374\n",
       "Total_Stops           6\n",
       "Additional_Info      10\n",
       "Price              1871\n",
       "source                2\n",
       "dtype: int64"
      ]
     },
     "execution_count": 13,
     "metadata": {},
     "output_type": "execute_result"
    }
   ],
   "source": [
    "df.apply(lambda x: len(x.unique()))"
   ]
  },
  {
   "cell_type": "markdown",
   "id": "2e3733d6",
   "metadata": {},
   "source": [
    "# Checking missing values"
   ]
  },
  {
   "cell_type": "code",
   "execution_count": 14,
   "id": "696e4e8a",
   "metadata": {},
   "outputs": [
    {
     "data": {
      "text/plain": [
       "Airline               0\n",
       "Date_of_Journey       0\n",
       "Source                0\n",
       "Destination           0\n",
       "Route                 1\n",
       "Dep_Time              0\n",
       "Arrival_Time          0\n",
       "Duration              0\n",
       "Total_Stops           1\n",
       "Additional_Info       0\n",
       "Price              2671\n",
       "source                0\n",
       "dtype: int64"
      ]
     },
     "execution_count": 14,
     "metadata": {},
     "output_type": "execute_result"
    }
   ],
   "source": [
    "df.isnull().sum()"
   ]
  },
  {
   "cell_type": "code",
   "execution_count": 15,
   "id": "cb3f2022",
   "metadata": {},
   "outputs": [
    {
     "data": {
      "image/png": "[encoded data removed]",
      "text/plain": [
       "<Figure size 432x288 with 2 Axes>"
      ]
     },
     "metadata": {
      "needs_background": "light"
     },
     "output_type": "display_data"
    }
   ],
   "source": [
    "sns.heatmap(df.isnull())                           #Visual representation of null values present in dataset\n",
    "plt.title('Null Values')\n",
    "plt.show()"
   ]
  },
  {
   "cell_type": "markdown",
   "id": "4769a5b2",
   "metadata": {},
   "source": [
    "\n",
    "There is only 1 row with missing values in Route and Total_Stops columns."
   ]
  },
  {
   "cell_type": "code",
   "execution_count": 16,
   "id": "3bb84db2",
   "metadata": {},
   "outputs": [
    {
     "data": {
      "text/html": [
       "<div>\n",
       "<style scoped>\n",
       "    .dataframe tbody tr th:only-of-type {\n",
       "        vertical-align: middle;\n",
       "    }\n",
       "\n",
       "    .dataframe tbody tr th {\n",
       "        vertical-align: top;\n",
       "    }\n",
       "\n",
       "    .dataframe thead th {\n",
       "        text-align: right;\n",
       "    }\n",
       "</style>\n",
       "<table border=\"1\" class=\"dataframe\">\n",
       "  <thead>\n",
       "    <tr style=\"text-align: right;\">\n",
       "      <th></th>\n",
       "      <th>Airline</th>\n",
       "      <th>Date_of_Journey</th>\n",
       "      <th>Source</th>\n",
       "      <th>Destination</th>\n",
       "      <th>Route</th>\n",
       "      <th>Dep_Time</th>\n",
       "      <th>Arrival_Time</th>\n",
       "      <th>Duration</th>\n",
       "      <th>Total_Stops</th>\n",
       "      <th>Additional_Info</th>\n",
       "      <th>Price</th>\n",
       "      <th>source</th>\n",
       "    </tr>\n",
       "  </thead>\n",
       "  <tbody>\n",
       "    <tr>\n",
       "      <th>9039</th>\n",
       "      <td>Air India</td>\n",
       "      <td>6/05/2019</td>\n",
       "      <td>Delhi</td>\n",
       "      <td>Cochin</td>\n",
       "      <td>NaN</td>\n",
       "      <td>09:45</td>\n",
       "      <td>09:25 07 May</td>\n",
       "      <td>23h 40m</td>\n",
       "      <td>NaN</td>\n",
       "      <td>No info</td>\n",
       "      <td>7480.0</td>\n",
       "      <td>train</td>\n",
       "    </tr>\n",
       "  </tbody>\n",
       "</table>\n",
       "</div>"
      ],
      "text/plain": [
       "        Airline Date_of_Journey Source Destination Route Dep_Time  \\\n",
       "9039  Air India       6/05/2019  Delhi      Cochin   NaN    09:45   \n",
       "\n",
       "      Arrival_Time Duration Total_Stops Additional_Info   Price source  \n",
       "9039  09:25 07 May  23h 40m         NaN         No info  7480.0  train  "
      ]
     },
     "execution_count": 16,
     "metadata": {},
     "output_type": "execute_result"
    }
   ],
   "source": [
    "df[df['Total_Stops'].isnull()]"
   ]
  },
  {
   "cell_type": "code",
   "execution_count": 17,
   "id": "c1871cf0",
   "metadata": {},
   "outputs": [
    {
     "name": "stdout",
     "output_type": "stream",
     "text": [
      "        Airline Date_of_Journey Source Destination Route Dep_Time  \\\n",
      "9039  Air India       6/05/2019  Delhi      Cochin   NaN    09:45   \n",
      "\n",
      "      Arrival_Time Duration Total_Stops Additional_Info   Price source  \n",
      "9039  09:25 07 May  23h 40m         NaN         No info  7480.0  train  \n"
     ]
    }
   ],
   "source": [
    "print(df.loc[[9039]])"
   ]
  },
  {
   "cell_type": "code",
   "execution_count": 18,
   "id": "9036424c",
   "metadata": {},
   "outputs": [
    {
     "data": {
      "text/html": [
       "<div>\n",
       "<style scoped>\n",
       "    .dataframe tbody tr th:only-of-type {\n",
       "        vertical-align: middle;\n",
       "    }\n",
       "\n",
       "    .dataframe tbody tr th {\n",
       "        vertical-align: top;\n",
       "    }\n",
       "\n",
       "    .dataframe thead th {\n",
       "        text-align: right;\n",
       "    }\n",
       "</style>\n",
       "<table border=\"1\" class=\"dataframe\">\n",
       "  <thead>\n",
       "    <tr style=\"text-align: right;\">\n",
       "      <th></th>\n",
       "      <th>Airline</th>\n",
       "      <th>Date_of_Journey</th>\n",
       "      <th>Source</th>\n",
       "      <th>Destination</th>\n",
       "      <th>Route</th>\n",
       "      <th>Dep_Time</th>\n",
       "      <th>Arrival_Time</th>\n",
       "      <th>Duration</th>\n",
       "      <th>Total_Stops</th>\n",
       "      <th>Additional_Info</th>\n",
       "      <th>Price</th>\n",
       "      <th>source</th>\n",
       "    </tr>\n",
       "  </thead>\n",
       "  <tbody>\n",
       "    <tr>\n",
       "      <th>1616</th>\n",
       "      <td>Air India</td>\n",
       "      <td>24/05/2019</td>\n",
       "      <td>Delhi</td>\n",
       "      <td>Cochin</td>\n",
       "      <td>DEL → MAA → COK</td>\n",
       "      <td>09:45</td>\n",
       "      <td>09:25 25 May</td>\n",
       "      <td>23h 40m</td>\n",
       "      <td>1 stop</td>\n",
       "      <td>No info</td>\n",
       "      <td>7480.0</td>\n",
       "      <td>train</td>\n",
       "    </tr>\n",
       "    <tr>\n",
       "      <th>2554</th>\n",
       "      <td>Air India</td>\n",
       "      <td>15/05/2019</td>\n",
       "      <td>Delhi</td>\n",
       "      <td>Cochin</td>\n",
       "      <td>DEL → MAA → COK</td>\n",
       "      <td>09:45</td>\n",
       "      <td>09:25 16 May</td>\n",
       "      <td>23h 40m</td>\n",
       "      <td>1 stop</td>\n",
       "      <td>No info</td>\n",
       "      <td>7480.0</td>\n",
       "      <td>train</td>\n",
       "    </tr>\n",
       "    <tr>\n",
       "      <th>4351</th>\n",
       "      <td>Air India</td>\n",
       "      <td>27/06/2019</td>\n",
       "      <td>Delhi</td>\n",
       "      <td>Cochin</td>\n",
       "      <td>DEL → MAA → COK</td>\n",
       "      <td>09:45</td>\n",
       "      <td>09:25 28 Jun</td>\n",
       "      <td>23h 40m</td>\n",
       "      <td>1 stop</td>\n",
       "      <td>No info</td>\n",
       "      <td>7480.0</td>\n",
       "      <td>train</td>\n",
       "    </tr>\n",
       "    <tr>\n",
       "      <th>7896</th>\n",
       "      <td>Air India</td>\n",
       "      <td>12/06/2019</td>\n",
       "      <td>Delhi</td>\n",
       "      <td>Cochin</td>\n",
       "      <td>DEL → MAA → COK</td>\n",
       "      <td>09:45</td>\n",
       "      <td>09:25 13 Jun</td>\n",
       "      <td>23h 40m</td>\n",
       "      <td>1 stop</td>\n",
       "      <td>No info</td>\n",
       "      <td>7480.0</td>\n",
       "      <td>train</td>\n",
       "    </tr>\n",
       "    <tr>\n",
       "      <th>9039</th>\n",
       "      <td>Air India</td>\n",
       "      <td>6/05/2019</td>\n",
       "      <td>Delhi</td>\n",
       "      <td>Cochin</td>\n",
       "      <td>NaN</td>\n",
       "      <td>09:45</td>\n",
       "      <td>09:25 07 May</td>\n",
       "      <td>23h 40m</td>\n",
       "      <td>NaN</td>\n",
       "      <td>No info</td>\n",
       "      <td>7480.0</td>\n",
       "      <td>train</td>\n",
       "    </tr>\n",
       "  </tbody>\n",
       "</table>\n",
       "</div>"
      ],
      "text/plain": [
       "        Airline Date_of_Journey Source Destination            Route Dep_Time  \\\n",
       "1616  Air India      24/05/2019  Delhi      Cochin  DEL → MAA → COK    09:45   \n",
       "2554  Air India      15/05/2019  Delhi      Cochin  DEL → MAA → COK    09:45   \n",
       "4351  Air India      27/06/2019  Delhi      Cochin  DEL → MAA → COK    09:45   \n",
       "7896  Air India      12/06/2019  Delhi      Cochin  DEL → MAA → COK    09:45   \n",
       "9039  Air India       6/05/2019  Delhi      Cochin              NaN    09:45   \n",
       "\n",
       "      Arrival_Time Duration Total_Stops Additional_Info   Price source  \n",
       "1616  09:25 25 May  23h 40m      1 stop         No info  7480.0  train  \n",
       "2554  09:25 16 May  23h 40m      1 stop         No info  7480.0  train  \n",
       "4351  09:25 28 Jun  23h 40m      1 stop         No info  7480.0  train  \n",
       "7896  09:25 13 Jun  23h 40m      1 stop         No info  7480.0  train  \n",
       "9039  09:25 07 May  23h 40m         NaN         No info  7480.0  train  "
      ]
     },
     "execution_count": 18,
     "metadata": {},
     "output_type": "execute_result"
    }
   ],
   "source": [
    "df.loc[(df['Source'] == 'Delhi') & (df['Destination'] == 'Cochin') & (df['Airline'] == 'Air India') & (df['Duration'] == '23h 40m') & (df['Price'] == 7480.0)]"
   ]
  },
  {
   "cell_type": "code",
   "execution_count": 19,
   "id": "f077a476",
   "metadata": {},
   "outputs": [],
   "source": [
    "df.at[9039, 'Total_Stops'] = '1 stop'\n",
    "df.at[9039, 'Route'] = 'DEL → MAA → COK'"
   ]
  },
  {
   "cell_type": "code",
   "execution_count": 20,
   "id": "a5573719",
   "metadata": {},
   "outputs": [
    {
     "data": {
      "text/plain": [
       "Airline               0\n",
       "Date_of_Journey       0\n",
       "Source                0\n",
       "Destination           0\n",
       "Route                 0\n",
       "Dep_Time              0\n",
       "Arrival_Time          0\n",
       "Duration              0\n",
       "Total_Stops           0\n",
       "Additional_Info       0\n",
       "Price              2671\n",
       "source                0\n",
       "dtype: int64"
      ]
     },
     "execution_count": 20,
     "metadata": {},
     "output_type": "execute_result"
    }
   ],
   "source": [
    "df.isnull().sum()"
   ]
  },
  {
   "cell_type": "code",
   "execution_count": 21,
   "id": "0b5f6d3a",
   "metadata": {},
   "outputs": [
    {
     "data": {
      "image/png": "[encoded data removed]",
      "text/plain": [
       "<Figure size 432x288 with 2 Axes>"
      ]
     },
     "metadata": {
      "needs_background": "light"
     },
     "output_type": "display_data"
    }
   ],
   "source": [
    "sns.heatmap(df.isnull())                           #Visual representation of null values present in dataset\n",
    "plt.title('Null Values')\n",
    "plt.show()"
   ]
  },
  {
   "cell_type": "markdown",
   "id": "06fd6bc2",
   "metadata": {},
   "source": [
    "# Feature Engineering"
   ]
  },
  {
   "cell_type": "code",
   "execution_count": 22,
   "id": "0fa6d453",
   "metadata": {},
   "outputs": [
    {
     "data": {
      "text/plain": [
       "0        3.0\n",
       "1        5.0\n",
       "2        6.0\n",
       "3        5.0\n",
       "4        3.0\n",
       "        ... \n",
       "13349    6.0\n",
       "13350    3.0\n",
       "13351    3.0\n",
       "13352    3.0\n",
       "13353    6.0\n",
       "Name: Month, Length: 13354, dtype: float64"
      ]
     },
     "execution_count": 22,
     "metadata": {},
     "output_type": "execute_result"
    }
   ],
   "source": [
    "df['Month'] = df['Date_of_Journey'].apply(lambda x: x[-7:-5])\n",
    "df['Month'] = df['Month'].astype(float)\n",
    "df['Month']"
   ]
  },
  {
   "cell_type": "code",
   "execution_count": 23,
   "id": "bed1a7de",
   "metadata": {},
   "outputs": [
    {
     "data": {
      "text/plain": [
       "0        01:10\n",
       "1        13:15\n",
       "2        04:25\n",
       "3        23:30\n",
       "4        21:35\n",
       "         ...  \n",
       "13349    20:25\n",
       "13350    16:55\n",
       "13351    04:25\n",
       "13352    19:15\n",
       "13353    19:15\n",
       "Name: Arrival_Time, Length: 13354, dtype: object"
      ]
     },
     "execution_count": 23,
     "metadata": {},
     "output_type": "execute_result"
    }
   ],
   "source": [
    "df['Arrival_Time'] = df['Arrival_Time'].apply(lambda x: x[:5])\n",
    "df['Arrival_Time']"
   ]
  },
  {
   "cell_type": "markdown",
   "id": "e7fed6ba",
   "metadata": {},
   "source": [
    "We removed the arrival date from the arrival time column."
   ]
  },
  {
   "cell_type": "code",
   "execution_count": 24,
   "id": "b2eca02f",
   "metadata": {},
   "outputs": [],
   "source": [
    "df['Total_Stops'].replace('non-stop', '0 stops', inplace = True)"
   ]
  },
  {
   "cell_type": "code",
   "execution_count": 25,
   "id": "4b68acd2",
   "metadata": {},
   "outputs": [
    {
     "data": {
      "text/plain": [
       "0        0.0\n",
       "1        2.0\n",
       "2        2.0\n",
       "3        1.0\n",
       "4        1.0\n",
       "        ... \n",
       "13349    1.0\n",
       "13350    0.0\n",
       "13351    1.0\n",
       "13352    1.0\n",
       "13353    1.0\n",
       "Name: Total_Stops, Length: 13354, dtype: float64"
      ]
     },
     "execution_count": 25,
     "metadata": {},
     "output_type": "execute_result"
    }
   ],
   "source": [
    "df['Total_Stops'] = df['Total_Stops'].apply(lambda x: x[:1])\n",
    "df['Total_Stops'] = df['Total_Stops'].astype(float)\n",
    "df['Total_Stops']"
   ]
  },
  {
   "cell_type": "markdown",
   "id": "57d77303",
   "metadata": {},
   "source": [
    "Changed non-stop to 0 stops and then converted all the values in Total stops column to float."
   ]
  },
  {
   "cell_type": "code",
   "execution_count": 26,
   "id": "45d441cd",
   "metadata": {},
   "outputs": [],
   "source": [
    "df['Duration']=  df['Duration'].str.replace(\"h\", '*60').str.replace(' ','+').str.replace('m','*1').apply(eval)"
   ]
  },
  {
   "cell_type": "code",
   "execution_count": 27,
   "id": "283ae541",
   "metadata": {},
   "outputs": [
    {
     "data": {
      "text/plain": [
       "0         170\n",
       "1         445\n",
       "2        1140\n",
       "3         325\n",
       "4         285\n",
       "         ... \n",
       "13349    1435\n",
       "13350     155\n",
       "13351     395\n",
       "13352     915\n",
       "13353     860\n",
       "Name: Duration, Length: 13354, dtype: int64"
      ]
     },
     "execution_count": 27,
     "metadata": {},
     "output_type": "execute_result"
    }
   ],
   "source": [
    "df['Duration']"
   ]
  },
  {
   "cell_type": "markdown",
   "id": "b3cbf5f4",
   "metadata": {},
   "source": [
    "\n",
    "Converted the duration into minutes from hours minutes so it can be easy to interpret."
   ]
  },
  {
   "cell_type": "code",
   "execution_count": 28,
   "id": "03092ac8",
   "metadata": {},
   "outputs": [],
   "source": [
    "df[\"Dep_hour\"] = pd.to_datetime(df[\"Dep_Time\"]).dt.hour\n",
    "df[\"Dep_min\"] = pd.to_datetime(df[\"Dep_Time\"]).dt.minute"
   ]
  },
  {
   "cell_type": "code",
   "execution_count": 29,
   "id": "ac8d2a2f",
   "metadata": {},
   "outputs": [],
   "source": [
    "df[\"Arrival_hour\"] = pd.to_datetime(df[\"Arrival_Time\"]).dt.hour\n",
    "df[\"Arrival_min\"] = pd.to_datetime(df[\"Arrival_Time\"]).dt.minute"
   ]
  },
  {
   "cell_type": "markdown",
   "id": "e7350692",
   "metadata": {},
   "source": [
    "\n",
    "Separeted the departure hour and minute from Departure time. Did the same with arrival time."
   ]
  },
  {
   "cell_type": "code",
   "execution_count": 30,
   "id": "2a6c8449",
   "metadata": {},
   "outputs": [
    {
     "data": {
      "text/html": [
       "<div>\n",
       "<style scoped>\n",
       "    .dataframe tbody tr th:only-of-type {\n",
       "        vertical-align: middle;\n",
       "    }\n",
       "\n",
       "    .dataframe tbody tr th {\n",
       "        vertical-align: top;\n",
       "    }\n",
       "\n",
       "    .dataframe thead th {\n",
       "        text-align: right;\n",
       "    }\n",
       "</style>\n",
       "<table border=\"1\" class=\"dataframe\">\n",
       "  <thead>\n",
       "    <tr style=\"text-align: right;\">\n",
       "      <th></th>\n",
       "      <th>Airline</th>\n",
       "      <th>Date_of_Journey</th>\n",
       "      <th>Source</th>\n",
       "      <th>Destination</th>\n",
       "      <th>Route</th>\n",
       "      <th>Dep_Time</th>\n",
       "      <th>Arrival_Time</th>\n",
       "      <th>Duration</th>\n",
       "      <th>Total_Stops</th>\n",
       "      <th>Additional_Info</th>\n",
       "      <th>Price</th>\n",
       "      <th>source</th>\n",
       "      <th>Month</th>\n",
       "      <th>Dep_hour</th>\n",
       "      <th>Dep_min</th>\n",
       "      <th>Arrival_hour</th>\n",
       "      <th>Arrival_min</th>\n",
       "    </tr>\n",
       "  </thead>\n",
       "  <tbody>\n",
       "    <tr>\n",
       "      <th>0</th>\n",
       "      <td>IndiGo</td>\n",
       "      <td>24/03/2019</td>\n",
       "      <td>Banglore</td>\n",
       "      <td>New Delhi</td>\n",
       "      <td>BLR → DEL</td>\n",
       "      <td>22:20</td>\n",
       "      <td>01:10</td>\n",
       "      <td>170</td>\n",
       "      <td>0.0</td>\n",
       "      <td>No info</td>\n",
       "      <td>3897.0</td>\n",
       "      <td>train</td>\n",
       "      <td>3.0</td>\n",
       "      <td>22</td>\n",
       "      <td>20</td>\n",
       "      <td>1</td>\n",
       "      <td>10</td>\n",
       "    </tr>\n",
       "    <tr>\n",
       "      <th>1</th>\n",
       "      <td>Air India</td>\n",
       "      <td>1/05/2019</td>\n",
       "      <td>Kolkata</td>\n",
       "      <td>Banglore</td>\n",
       "      <td>CCU → IXR → BBI → BLR</td>\n",
       "      <td>05:50</td>\n",
       "      <td>13:15</td>\n",
       "      <td>445</td>\n",
       "      <td>2.0</td>\n",
       "      <td>No info</td>\n",
       "      <td>7662.0</td>\n",
       "      <td>train</td>\n",
       "      <td>5.0</td>\n",
       "      <td>5</td>\n",
       "      <td>50</td>\n",
       "      <td>13</td>\n",
       "      <td>15</td>\n",
       "    </tr>\n",
       "    <tr>\n",
       "      <th>2</th>\n",
       "      <td>Jet Airways</td>\n",
       "      <td>9/06/2019</td>\n",
       "      <td>Delhi</td>\n",
       "      <td>Cochin</td>\n",
       "      <td>DEL → LKO → BOM → COK</td>\n",
       "      <td>09:25</td>\n",
       "      <td>04:25</td>\n",
       "      <td>1140</td>\n",
       "      <td>2.0</td>\n",
       "      <td>No info</td>\n",
       "      <td>13882.0</td>\n",
       "      <td>train</td>\n",
       "      <td>6.0</td>\n",
       "      <td>9</td>\n",
       "      <td>25</td>\n",
       "      <td>4</td>\n",
       "      <td>25</td>\n",
       "    </tr>\n",
       "    <tr>\n",
       "      <th>3</th>\n",
       "      <td>IndiGo</td>\n",
       "      <td>12/05/2019</td>\n",
       "      <td>Kolkata</td>\n",
       "      <td>Banglore</td>\n",
       "      <td>CCU → NAG → BLR</td>\n",
       "      <td>18:05</td>\n",
       "      <td>23:30</td>\n",
       "      <td>325</td>\n",
       "      <td>1.0</td>\n",
       "      <td>No info</td>\n",
       "      <td>6218.0</td>\n",
       "      <td>train</td>\n",
       "      <td>5.0</td>\n",
       "      <td>18</td>\n",
       "      <td>5</td>\n",
       "      <td>23</td>\n",
       "      <td>30</td>\n",
       "    </tr>\n",
       "    <tr>\n",
       "      <th>4</th>\n",
       "      <td>IndiGo</td>\n",
       "      <td>01/03/2019</td>\n",
       "      <td>Banglore</td>\n",
       "      <td>New Delhi</td>\n",
       "      <td>BLR → NAG → DEL</td>\n",
       "      <td>16:50</td>\n",
       "      <td>21:35</td>\n",
       "      <td>285</td>\n",
       "      <td>1.0</td>\n",
       "      <td>No info</td>\n",
       "      <td>13302.0</td>\n",
       "      <td>train</td>\n",
       "      <td>3.0</td>\n",
       "      <td>16</td>\n",
       "      <td>50</td>\n",
       "      <td>21</td>\n",
       "      <td>35</td>\n",
       "    </tr>\n",
       "    <tr>\n",
       "      <th>5</th>\n",
       "      <td>SpiceJet</td>\n",
       "      <td>24/06/2019</td>\n",
       "      <td>Kolkata</td>\n",
       "      <td>Banglore</td>\n",
       "      <td>CCU → BLR</td>\n",
       "      <td>09:00</td>\n",
       "      <td>11:25</td>\n",
       "      <td>145</td>\n",
       "      <td>0.0</td>\n",
       "      <td>No info</td>\n",
       "      <td>3873.0</td>\n",
       "      <td>train</td>\n",
       "      <td>6.0</td>\n",
       "      <td>9</td>\n",
       "      <td>0</td>\n",
       "      <td>11</td>\n",
       "      <td>25</td>\n",
       "    </tr>\n",
       "    <tr>\n",
       "      <th>6</th>\n",
       "      <td>Jet Airways</td>\n",
       "      <td>12/03/2019</td>\n",
       "      <td>Banglore</td>\n",
       "      <td>New Delhi</td>\n",
       "      <td>BLR → BOM → DEL</td>\n",
       "      <td>18:55</td>\n",
       "      <td>10:25</td>\n",
       "      <td>930</td>\n",
       "      <td>1.0</td>\n",
       "      <td>In-flight meal not included</td>\n",
       "      <td>11087.0</td>\n",
       "      <td>train</td>\n",
       "      <td>3.0</td>\n",
       "      <td>18</td>\n",
       "      <td>55</td>\n",
       "      <td>10</td>\n",
       "      <td>25</td>\n",
       "    </tr>\n",
       "    <tr>\n",
       "      <th>7</th>\n",
       "      <td>Jet Airways</td>\n",
       "      <td>01/03/2019</td>\n",
       "      <td>Banglore</td>\n",
       "      <td>New Delhi</td>\n",
       "      <td>BLR → BOM → DEL</td>\n",
       "      <td>08:00</td>\n",
       "      <td>05:05</td>\n",
       "      <td>1265</td>\n",
       "      <td>1.0</td>\n",
       "      <td>No info</td>\n",
       "      <td>22270.0</td>\n",
       "      <td>train</td>\n",
       "      <td>3.0</td>\n",
       "      <td>8</td>\n",
       "      <td>0</td>\n",
       "      <td>5</td>\n",
       "      <td>5</td>\n",
       "    </tr>\n",
       "    <tr>\n",
       "      <th>8</th>\n",
       "      <td>Jet Airways</td>\n",
       "      <td>12/03/2019</td>\n",
       "      <td>Banglore</td>\n",
       "      <td>New Delhi</td>\n",
       "      <td>BLR → BOM → DEL</td>\n",
       "      <td>08:55</td>\n",
       "      <td>10:25</td>\n",
       "      <td>1530</td>\n",
       "      <td>1.0</td>\n",
       "      <td>In-flight meal not included</td>\n",
       "      <td>11087.0</td>\n",
       "      <td>train</td>\n",
       "      <td>3.0</td>\n",
       "      <td>8</td>\n",
       "      <td>55</td>\n",
       "      <td>10</td>\n",
       "      <td>25</td>\n",
       "    </tr>\n",
       "    <tr>\n",
       "      <th>9</th>\n",
       "      <td>Multiple carriers</td>\n",
       "      <td>27/05/2019</td>\n",
       "      <td>Delhi</td>\n",
       "      <td>Cochin</td>\n",
       "      <td>DEL → BOM → COK</td>\n",
       "      <td>11:25</td>\n",
       "      <td>19:15</td>\n",
       "      <td>470</td>\n",
       "      <td>1.0</td>\n",
       "      <td>No info</td>\n",
       "      <td>8625.0</td>\n",
       "      <td>train</td>\n",
       "      <td>5.0</td>\n",
       "      <td>11</td>\n",
       "      <td>25</td>\n",
       "      <td>19</td>\n",
       "      <td>15</td>\n",
       "    </tr>\n",
       "  </tbody>\n",
       "</table>\n",
       "</div>"
      ],
      "text/plain": [
       "             Airline Date_of_Journey    Source Destination  \\\n",
       "0             IndiGo      24/03/2019  Banglore   New Delhi   \n",
       "1          Air India       1/05/2019   Kolkata    Banglore   \n",
       "2        Jet Airways       9/06/2019     Delhi      Cochin   \n",
       "3             IndiGo      12/05/2019   Kolkata    Banglore   \n",
       "4             IndiGo      01/03/2019  Banglore   New Delhi   \n",
       "5           SpiceJet      24/06/2019   Kolkata    Banglore   \n",
       "6        Jet Airways      12/03/2019  Banglore   New Delhi   \n",
       "7        Jet Airways      01/03/2019  Banglore   New Delhi   \n",
       "8        Jet Airways      12/03/2019  Banglore   New Delhi   \n",
       "9  Multiple carriers      27/05/2019     Delhi      Cochin   \n",
       "\n",
       "                   Route Dep_Time Arrival_Time  Duration  Total_Stops  \\\n",
       "0              BLR → DEL    22:20        01:10       170          0.0   \n",
       "1  CCU → IXR → BBI → BLR    05:50        13:15       445          2.0   \n",
       "2  DEL → LKO → BOM → COK    09:25        04:25      1140          2.0   \n",
       "3        CCU → NAG → BLR    18:05        23:30       325          1.0   \n",
       "4        BLR → NAG → DEL    16:50        21:35       285          1.0   \n",
       "5              CCU → BLR    09:00        11:25       145          0.0   \n",
       "6        BLR → BOM → DEL    18:55        10:25       930          1.0   \n",
       "7        BLR → BOM → DEL    08:00        05:05      1265          1.0   \n",
       "8        BLR → BOM → DEL    08:55        10:25      1530          1.0   \n",
       "9        DEL → BOM → COK    11:25        19:15       470          1.0   \n",
       "\n",
       "               Additional_Info    Price source  Month  Dep_hour  Dep_min  \\\n",
       "0                      No info   3897.0  train    3.0        22       20   \n",
       "1                      No info   7662.0  train    5.0         5       50   \n",
       "2                      No info  13882.0  train    6.0         9       25   \n",
       "3                      No info   6218.0  train    5.0        18        5   \n",
       "4                      No info  13302.0  train    3.0        16       50   \n",
       "5                      No info   3873.0  train    6.0         9        0   \n",
       "6  In-flight meal not included  11087.0  train    3.0        18       55   \n",
       "7                      No info  22270.0  train    3.0         8        0   \n",
       "8  In-flight meal not included  11087.0  train    3.0         8       55   \n",
       "9                      No info   8625.0  train    5.0        11       25   \n",
       "\n",
       "   Arrival_hour  Arrival_min  \n",
       "0             1           10  \n",
       "1            13           15  \n",
       "2             4           25  \n",
       "3            23           30  \n",
       "4            21           35  \n",
       "5            11           25  \n",
       "6            10           25  \n",
       "7             5            5  \n",
       "8            10           25  \n",
       "9            19           15  "
      ]
     },
     "execution_count": 30,
     "metadata": {},
     "output_type": "execute_result"
    }
   ],
   "source": [
    "df.head(10)"
   ]
  },
  {
   "cell_type": "code",
   "execution_count": 31,
   "id": "786ea9b1",
   "metadata": {},
   "outputs": [],
   "source": [
    "df.drop(['Date_of_Journey', 'Dep_Time', 'Arrival_Time'], axis = 1, inplace = True)"
   ]
  },
  {
   "cell_type": "code",
   "execution_count": 32,
   "id": "a09d40cf",
   "metadata": {},
   "outputs": [
    {
     "data": {
      "text/html": [
       "<div>\n",
       "<style scoped>\n",
       "    .dataframe tbody tr th:only-of-type {\n",
       "        vertical-align: middle;\n",
       "    }\n",
       "\n",
       "    .dataframe tbody tr th {\n",
       "        vertical-align: top;\n",
       "    }\n",
       "\n",
       "    .dataframe thead th {\n",
       "        text-align: right;\n",
       "    }\n",
       "</style>\n",
       "<table border=\"1\" class=\"dataframe\">\n",
       "  <thead>\n",
       "    <tr style=\"text-align: right;\">\n",
       "      <th></th>\n",
       "      <th>Airline</th>\n",
       "      <th>Source</th>\n",
       "      <th>Destination</th>\n",
       "      <th>Route</th>\n",
       "      <th>Duration</th>\n",
       "      <th>Total_Stops</th>\n",
       "      <th>Additional_Info</th>\n",
       "      <th>Price</th>\n",
       "      <th>source</th>\n",
       "      <th>Month</th>\n",
       "      <th>Dep_hour</th>\n",
       "      <th>Dep_min</th>\n",
       "      <th>Arrival_hour</th>\n",
       "      <th>Arrival_min</th>\n",
       "    </tr>\n",
       "  </thead>\n",
       "  <tbody>\n",
       "    <tr>\n",
       "      <th>0</th>\n",
       "      <td>IndiGo</td>\n",
       "      <td>Banglore</td>\n",
       "      <td>New Delhi</td>\n",
       "      <td>BLR → DEL</td>\n",
       "      <td>170</td>\n",
       "      <td>0.0</td>\n",
       "      <td>No info</td>\n",
       "      <td>3897.0</td>\n",
       "      <td>train</td>\n",
       "      <td>3.0</td>\n",
       "      <td>22</td>\n",
       "      <td>20</td>\n",
       "      <td>1</td>\n",
       "      <td>10</td>\n",
       "    </tr>\n",
       "    <tr>\n",
       "      <th>1</th>\n",
       "      <td>Air India</td>\n",
       "      <td>Kolkata</td>\n",
       "      <td>Banglore</td>\n",
       "      <td>CCU → IXR → BBI → BLR</td>\n",
       "      <td>445</td>\n",
       "      <td>2.0</td>\n",
       "      <td>No info</td>\n",
       "      <td>7662.0</td>\n",
       "      <td>train</td>\n",
       "      <td>5.0</td>\n",
       "      <td>5</td>\n",
       "      <td>50</td>\n",
       "      <td>13</td>\n",
       "      <td>15</td>\n",
       "    </tr>\n",
       "    <tr>\n",
       "      <th>2</th>\n",
       "      <td>Jet Airways</td>\n",
       "      <td>Delhi</td>\n",
       "      <td>Cochin</td>\n",
       "      <td>DEL → LKO → BOM → COK</td>\n",
       "      <td>1140</td>\n",
       "      <td>2.0</td>\n",
       "      <td>No info</td>\n",
       "      <td>13882.0</td>\n",
       "      <td>train</td>\n",
       "      <td>6.0</td>\n",
       "      <td>9</td>\n",
       "      <td>25</td>\n",
       "      <td>4</td>\n",
       "      <td>25</td>\n",
       "    </tr>\n",
       "    <tr>\n",
       "      <th>3</th>\n",
       "      <td>IndiGo</td>\n",
       "      <td>Kolkata</td>\n",
       "      <td>Banglore</td>\n",
       "      <td>CCU → NAG → BLR</td>\n",
       "      <td>325</td>\n",
       "      <td>1.0</td>\n",
       "      <td>No info</td>\n",
       "      <td>6218.0</td>\n",
       "      <td>train</td>\n",
       "      <td>5.0</td>\n",
       "      <td>18</td>\n",
       "      <td>5</td>\n",
       "      <td>23</td>\n",
       "      <td>30</td>\n",
       "    </tr>\n",
       "    <tr>\n",
       "      <th>4</th>\n",
       "      <td>IndiGo</td>\n",
       "      <td>Banglore</td>\n",
       "      <td>New Delhi</td>\n",
       "      <td>BLR → NAG → DEL</td>\n",
       "      <td>285</td>\n",
       "      <td>1.0</td>\n",
       "      <td>No info</td>\n",
       "      <td>13302.0</td>\n",
       "      <td>train</td>\n",
       "      <td>3.0</td>\n",
       "      <td>16</td>\n",
       "      <td>50</td>\n",
       "      <td>21</td>\n",
       "      <td>35</td>\n",
       "    </tr>\n",
       "  </tbody>\n",
       "</table>\n",
       "</div>"
      ],
      "text/plain": [
       "       Airline    Source Destination                  Route  Duration  \\\n",
       "0       IndiGo  Banglore   New Delhi              BLR → DEL       170   \n",
       "1    Air India   Kolkata    Banglore  CCU → IXR → BBI → BLR       445   \n",
       "2  Jet Airways     Delhi      Cochin  DEL → LKO → BOM → COK      1140   \n",
       "3       IndiGo   Kolkata    Banglore        CCU → NAG → BLR       325   \n",
       "4       IndiGo  Banglore   New Delhi        BLR → NAG → DEL       285   \n",
       "\n",
       "   Total_Stops Additional_Info    Price source  Month  Dep_hour  Dep_min  \\\n",
       "0          0.0         No info   3897.0  train    3.0        22       20   \n",
       "1          2.0         No info   7662.0  train    5.0         5       50   \n",
       "2          2.0         No info  13882.0  train    6.0         9       25   \n",
       "3          1.0         No info   6218.0  train    5.0        18        5   \n",
       "4          1.0         No info  13302.0  train    3.0        16       50   \n",
       "\n",
       "   Arrival_hour  Arrival_min  \n",
       "0             1           10  \n",
       "1            13           15  \n",
       "2             4           25  \n",
       "3            23           30  \n",
       "4            21           35  "
      ]
     },
     "execution_count": 32,
     "metadata": {},
     "output_type": "execute_result"
    }
   ],
   "source": [
    "df.head()"
   ]
  },
  {
   "cell_type": "code",
   "execution_count": 33,
   "id": "b28d0630",
   "metadata": {},
   "outputs": [
    {
     "data": {
      "text/plain": [
       "array(['No info', 'In-flight meal not included',\n",
       "       'No check-in baggage included', '1 Short layover', 'No Info',\n",
       "       '1 Long layover', 'Change airports', 'Business class',\n",
       "       'Red-eye flight', '2 Long layover'], dtype=object)"
      ]
     },
     "execution_count": 33,
     "metadata": {},
     "output_type": "execute_result"
    }
   ],
   "source": [
    "\n",
    "df['Additional_Info'].unique()"
   ]
  },
  {
   "cell_type": "code",
   "execution_count": 34,
   "id": "0f694b11",
   "metadata": {},
   "outputs": [],
   "source": [
    "df['Additional_Info'].replace('No Info', 'No info', inplace = True)"
   ]
  },
  {
   "cell_type": "code",
   "execution_count": 35,
   "id": "c445e541",
   "metadata": {},
   "outputs": [
    {
     "data": {
      "text/plain": [
       "array(['IndiGo', 'Air India', 'Jet Airways', 'SpiceJet',\n",
       "       'Multiple carriers', 'GoAir', 'Vistara', 'Air Asia',\n",
       "       'Vistara Premium economy', 'Jet Airways Business',\n",
       "       'Multiple carriers Premium economy', 'Trujet'], dtype=object)"
      ]
     },
     "execution_count": 35,
     "metadata": {},
     "output_type": "execute_result"
    }
   ],
   "source": [
    "\n",
    "df['Airline'].unique()"
   ]
  },
  {
   "cell_type": "markdown",
   "id": "98cf5a61",
   "metadata": {},
   "source": [
    "# EDA and Data Visualisation"
   ]
  },
  {
   "cell_type": "code",
   "execution_count": 36,
   "id": "37d36963",
   "metadata": {},
   "outputs": [
    {
     "data": {
      "text/plain": [
       "Text(0.5, 0, 'Count of flights')"
      ]
     },
     "execution_count": 36,
     "metadata": {},
     "output_type": "execute_result"
    },
    {
     "data": {
      "image/png": "[encoded data removed]",
      "text/plain": [
       "<Figure size 1080x720 with 1 Axes>"
      ]
     },
     "metadata": {
      "needs_background": "light"
     },
     "output_type": "display_data"
    }
   ],
   "source": [
    "\n",
    "plt.figure(figsize = (15, 10))\n",
    "plt.title('Airlines')\n",
    "ax = sns.countplot(y = 'Airline', data = df)\n",
    "plt.ylabel('Airlines')\n",
    "plt.xlabel('Count of flights')"
   ]
  },
  {
   "cell_type": "code",
   "execution_count": 37,
   "id": "d16efe4b",
   "metadata": {},
   "outputs": [
    {
     "data": {
      "text/html": [
       "<div>\n",
       "<style scoped>\n",
       "    .dataframe tbody tr th:only-of-type {\n",
       "        vertical-align: middle;\n",
       "    }\n",
       "\n",
       "    .dataframe tbody tr th {\n",
       "        vertical-align: top;\n",
       "    }\n",
       "\n",
       "    .dataframe thead th {\n",
       "        text-align: right;\n",
       "    }\n",
       "</style>\n",
       "<table border=\"1\" class=\"dataframe\">\n",
       "  <thead>\n",
       "    <tr style=\"text-align: right;\">\n",
       "      <th></th>\n",
       "      <th>Airline</th>\n",
       "      <th>Source</th>\n",
       "      <th>Destination</th>\n",
       "      <th>Route</th>\n",
       "      <th>Duration</th>\n",
       "      <th>Total_Stops</th>\n",
       "      <th>Additional_Info</th>\n",
       "      <th>Price</th>\n",
       "      <th>source</th>\n",
       "      <th>Month</th>\n",
       "      <th>Dep_hour</th>\n",
       "      <th>Dep_min</th>\n",
       "      <th>Arrival_hour</th>\n",
       "      <th>Arrival_min</th>\n",
       "    </tr>\n",
       "  </thead>\n",
       "  <tbody>\n",
       "    <tr>\n",
       "      <th>426</th>\n",
       "      <td>Vistara Premium economy</td>\n",
       "      <td>Banglore</td>\n",
       "      <td>New Delhi</td>\n",
       "      <td>BLR → DEL</td>\n",
       "      <td>155</td>\n",
       "      <td>0.0</td>\n",
       "      <td>No info</td>\n",
       "      <td>11793.0</td>\n",
       "      <td>train</td>\n",
       "      <td>3.0</td>\n",
       "      <td>16</td>\n",
       "      <td>0</td>\n",
       "      <td>18</td>\n",
       "      <td>35</td>\n",
       "    </tr>\n",
       "    <tr>\n",
       "      <th>7657</th>\n",
       "      <td>Vistara Premium economy</td>\n",
       "      <td>Chennai</td>\n",
       "      <td>Kolkata</td>\n",
       "      <td>MAA → CCU</td>\n",
       "      <td>135</td>\n",
       "      <td>0.0</td>\n",
       "      <td>No info</td>\n",
       "      <td>9125.0</td>\n",
       "      <td>train</td>\n",
       "      <td>3.0</td>\n",
       "      <td>7</td>\n",
       "      <td>5</td>\n",
       "      <td>9</td>\n",
       "      <td>20</td>\n",
       "    </tr>\n",
       "    <tr>\n",
       "      <th>8615</th>\n",
       "      <td>Vistara Premium economy</td>\n",
       "      <td>Banglore</td>\n",
       "      <td>Delhi</td>\n",
       "      <td>BLR → DEL</td>\n",
       "      <td>170</td>\n",
       "      <td>0.0</td>\n",
       "      <td>No info</td>\n",
       "      <td>5969.0</td>\n",
       "      <td>train</td>\n",
       "      <td>4.0</td>\n",
       "      <td>11</td>\n",
       "      <td>30</td>\n",
       "      <td>14</td>\n",
       "      <td>20</td>\n",
       "    </tr>\n",
       "    <tr>\n",
       "      <th>10747</th>\n",
       "      <td>Vistara Premium economy</td>\n",
       "      <td>Banglore</td>\n",
       "      <td>New Delhi</td>\n",
       "      <td>BLR → DEL</td>\n",
       "      <td>160</td>\n",
       "      <td>0.0</td>\n",
       "      <td>No info</td>\n",
       "      <td>NaN</td>\n",
       "      <td>test</td>\n",
       "      <td>3.0</td>\n",
       "      <td>19</td>\n",
       "      <td>40</td>\n",
       "      <td>22</td>\n",
       "      <td>20</td>\n",
       "    </tr>\n",
       "    <tr>\n",
       "      <th>11496</th>\n",
       "      <td>Vistara Premium economy</td>\n",
       "      <td>Banglore</td>\n",
       "      <td>New Delhi</td>\n",
       "      <td>BLR → DEL</td>\n",
       "      <td>165</td>\n",
       "      <td>0.0</td>\n",
       "      <td>No info</td>\n",
       "      <td>NaN</td>\n",
       "      <td>test</td>\n",
       "      <td>3.0</td>\n",
       "      <td>9</td>\n",
       "      <td>50</td>\n",
       "      <td>12</td>\n",
       "      <td>35</td>\n",
       "    </tr>\n",
       "  </tbody>\n",
       "</table>\n",
       "</div>"
      ],
      "text/plain": [
       "                       Airline    Source Destination      Route  Duration  \\\n",
       "426    Vistara Premium economy  Banglore   New Delhi  BLR → DEL       155   \n",
       "7657   Vistara Premium economy   Chennai     Kolkata  MAA → CCU       135   \n",
       "8615   Vistara Premium economy  Banglore       Delhi  BLR → DEL       170   \n",
       "10747  Vistara Premium economy  Banglore   New Delhi  BLR → DEL       160   \n",
       "11496  Vistara Premium economy  Banglore   New Delhi  BLR → DEL       165   \n",
       "\n",
       "       Total_Stops Additional_Info    Price source  Month  Dep_hour  Dep_min  \\\n",
       "426            0.0         No info  11793.0  train    3.0        16        0   \n",
       "7657           0.0         No info   9125.0  train    3.0         7        5   \n",
       "8615           0.0         No info   5969.0  train    4.0        11       30   \n",
       "10747          0.0         No info      NaN   test    3.0        19       40   \n",
       "11496          0.0         No info      NaN   test    3.0         9       50   \n",
       "\n",
       "       Arrival_hour  Arrival_min  \n",
       "426              18           35  \n",
       "7657              9           20  \n",
       "8615             14           20  \n",
       "10747            22           20  \n",
       "11496            12           35  "
      ]
     },
     "execution_count": 37,
     "metadata": {},
     "output_type": "execute_result"
    }
   ],
   "source": [
    "df.loc[(df['Airline'] == 'Vistara Premium economy')]"
   ]
  },
  {
   "cell_type": "code",
   "execution_count": 38,
   "id": "b7ed8fff",
   "metadata": {},
   "outputs": [
    {
     "data": {
      "text/html": [
       "<div>\n",
       "<style scoped>\n",
       "    .dataframe tbody tr th:only-of-type {\n",
       "        vertical-align: middle;\n",
       "    }\n",
       "\n",
       "    .dataframe tbody tr th {\n",
       "        vertical-align: top;\n",
       "    }\n",
       "\n",
       "    .dataframe thead th {\n",
       "        text-align: right;\n",
       "    }\n",
       "</style>\n",
       "<table border=\"1\" class=\"dataframe\">\n",
       "  <thead>\n",
       "    <tr style=\"text-align: right;\">\n",
       "      <th></th>\n",
       "      <th>Airline</th>\n",
       "      <th>Source</th>\n",
       "      <th>Destination</th>\n",
       "      <th>Route</th>\n",
       "      <th>Duration</th>\n",
       "      <th>Total_Stops</th>\n",
       "      <th>Additional_Info</th>\n",
       "      <th>Price</th>\n",
       "      <th>source</th>\n",
       "      <th>Month</th>\n",
       "      <th>Dep_hour</th>\n",
       "      <th>Dep_min</th>\n",
       "      <th>Arrival_hour</th>\n",
       "      <th>Arrival_min</th>\n",
       "    </tr>\n",
       "  </thead>\n",
       "  <tbody>\n",
       "    <tr>\n",
       "      <th>2878</th>\n",
       "      <td>Trujet</td>\n",
       "      <td>Mumbai</td>\n",
       "      <td>Hyderabad</td>\n",
       "      <td>BOM → NDC → HYD</td>\n",
       "      <td>195</td>\n",
       "      <td>1.0</td>\n",
       "      <td>No info</td>\n",
       "      <td>4140.0</td>\n",
       "      <td>train</td>\n",
       "      <td>3.0</td>\n",
       "      <td>13</td>\n",
       "      <td>5</td>\n",
       "      <td>16</td>\n",
       "      <td>20</td>\n",
       "    </tr>\n",
       "  </tbody>\n",
       "</table>\n",
       "</div>"
      ],
      "text/plain": [
       "     Airline  Source Destination            Route  Duration  Total_Stops  \\\n",
       "2878  Trujet  Mumbai   Hyderabad  BOM → NDC → HYD       195          1.0   \n",
       "\n",
       "     Additional_Info   Price source  Month  Dep_hour  Dep_min  Arrival_hour  \\\n",
       "2878         No info  4140.0  train    3.0        13        5            16   \n",
       "\n",
       "      Arrival_min  \n",
       "2878           20  "
      ]
     },
     "execution_count": 38,
     "metadata": {},
     "output_type": "execute_result"
    }
   ],
   "source": [
    "df.loc[(df['Airline'] == 'Trujet')]"
   ]
  },
  {
   "cell_type": "markdown",
   "id": "a8efddaf",
   "metadata": {},
   "source": [
    "Jet airways have the highest number of flights while Trujet has the lowest."
   ]
  },
  {
   "cell_type": "code",
   "execution_count": 39,
   "id": "854f902e",
   "metadata": {},
   "outputs": [
    {
     "data": {
      "text/plain": [
       "Text(0, 0.5, 'Count of flights')"
      ]
     },
     "execution_count": 39,
     "metadata": {},
     "output_type": "execute_result"
    },
    {
     "data": {
      "image/png": "[encoded data removed]",
      "text/plain": [
       "<Figure size 1080x720 with 1 Axes>"
      ]
     },
     "metadata": {
      "needs_background": "light"
     },
     "output_type": "display_data"
    }
   ],
   "source": [
    "plt.figure(figsize = (15, 10))\n",
    "plt.title('Source')\n",
    "ax = sns.countplot(x = 'Source', data = df)\n",
    "plt.xlabel('Source')\n",
    "plt.ylabel('Count of flights')"
   ]
  },
  {
   "cell_type": "code",
   "execution_count": 40,
   "id": "9969486b",
   "metadata": {},
   "outputs": [
    {
     "data": {
      "text/plain": [
       "Text(0, 0.5, 'Count of flights')"
      ]
     },
     "execution_count": 40,
     "metadata": {},
     "output_type": "execute_result"
    },
    {
     "data": {
      "image/png": "[encoded data removed]",
      "text/plain": [
       "<Figure size 1080x720 with 1 Axes>"
      ]
     },
     "metadata": {
      "needs_background": "light"
     },
     "output_type": "display_data"
    }
   ],
   "source": [
    "plt.figure(figsize = (15, 10))\n",
    "plt.title('Destination')\n",
    "ax = sns.countplot(x = 'Destination', data = df)\n",
    "plt.xlabel('Destination')\n",
    "plt.ylabel('Count of flights')"
   ]
  },
  {
   "cell_type": "markdown",
   "id": "96a3549c",
   "metadata": {},
   "source": [
    "\n",
    "Delhi and New Delhi are same places, so we will merge them."
   ]
  },
  {
   "cell_type": "code",
   "execution_count": 41,
   "id": "42f04543",
   "metadata": {},
   "outputs": [],
   "source": [
    "df['Destination'].replace('New Delhi', 'Delhi', inplace = True)"
   ]
  },
  {
   "cell_type": "markdown",
   "id": "75aafa69",
   "metadata": {},
   "source": [
    "\n",
    "Most of the flights take off from Delhi and most of the flights tend to be heading towards Cochin."
   ]
  },
  {
   "cell_type": "code",
   "execution_count": 42,
   "id": "00b575ba",
   "metadata": {},
   "outputs": [
    {
     "data": {
      "text/plain": [
       "Text(0.5, 0, 'Count of flights')"
      ]
     },
     "execution_count": 42,
     "metadata": {},
     "output_type": "execute_result"
    },
    {
     "data": {
      "image/png": "[encoded data removed]",
      "text/plain": [
       "<Figure size 1080x720 with 1 Axes>"
      ]
     },
     "metadata": {
      "needs_background": "light"
     },
     "output_type": "display_data"
    }
   ],
   "source": [
    "plt.figure(figsize = (15, 10))\n",
    "plt.title('Month wise flights')\n",
    "ax = sns.countplot(y = 'Month', data = df)\n",
    "plt.ylabel('Month')\n",
    "plt.xlabel('Count of flights')"
   ]
  },
  {
   "cell_type": "markdown",
   "id": "9f8b51d2",
   "metadata": {},
   "source": [
    "\n",
    "From the given dataset, most of the data is from the month of May and June while april has the least number of flights."
   ]
  },
  {
   "cell_type": "code",
   "execution_count": 43,
   "id": "11f7bebb",
   "metadata": {},
   "outputs": [
    {
     "data": {
      "image/png": "[encoded data removed]",
      "text/plain": [
       "<Figure size 1080x576 with 1 Axes>"
      ]
     },
     "metadata": {
      "needs_background": "light"
     },
     "output_type": "display_data"
    }
   ],
   "source": [
    "\n",
    "plt.figure(figsize = (15, 8))\n",
    "ax = sns.stripplot(df['Source'], df['Price'])\n",
    "ax.set(xlabel = 'Source', ylabel = 'Prices')\n",
    "plt.title('Source vs Price')\n",
    "plt.show()"
   ]
  },
  {
   "cell_type": "markdown",
   "id": "fdc21335",
   "metadata": {},
   "source": [
    "Flights from Banglore are costliest while flights from Chennai are cheapest."
   ]
  },
  {
   "cell_type": "code",
   "execution_count": 44,
   "id": "b81cc74d",
   "metadata": {},
   "outputs": [
    {
     "data": {
      "image/png": "[encoded data removed]",
      "text/plain": [
       "<Figure size 1080x576 with 1 Axes>"
      ]
     },
     "metadata": {
      "needs_background": "light"
     },
     "output_type": "display_data"
    }
   ],
   "source": [
    "\n",
    "plt.figure(figsize = (15, 8))\n",
    "ax = sns.stripplot(df['Price'], df['Airline'])\n",
    "ax.set(xlabel = 'Price', ylabel = 'Airlines')\n",
    "plt.title('Airlines vs Price')\n",
    "plt.show()"
   ]
  },
  {
   "cell_type": "markdown",
   "id": "e89fb8a0",
   "metadata": {},
   "source": [
    "\n",
    "Even though they are low in number, Jet airways business flights are the costliest."
   ]
  },
  {
   "cell_type": "code",
   "execution_count": 45,
   "id": "8b7618ab",
   "metadata": {},
   "outputs": [
    {
     "data": {
      "image/png": "[encoded data removed]",
      "text/plain": [
       "<Figure size 1080x576 with 1 Axes>"
      ]
     },
     "metadata": {
      "needs_background": "light"
     },
     "output_type": "display_data"
    }
   ],
   "source": [
    "plt.figure(figsize = (15, 8))\n",
    "ax = sns.stripplot(df['Price'], df['Additional_Info'])\n",
    "ax.set(xlabel = 'Price', ylabel = 'Additional Information')\n",
    "plt.title('Additional information impact on Price')\n",
    "plt.show()"
   ]
  },
  {
   "cell_type": "markdown",
   "id": "2f0930c9",
   "metadata": {},
   "source": [
    "\n",
    "As expected business class are the costliest while flights with no check in baggage included are cheapest."
   ]
  },
  {
   "cell_type": "markdown",
   "id": "8462a38e",
   "metadata": {},
   "source": [
    "# Encoding Object data types"
   ]
  },
  {
   "cell_type": "code",
   "execution_count": 46,
   "id": "b3483a1a",
   "metadata": {},
   "outputs": [
    {
     "data": {
      "text/plain": [
       "Airline             object\n",
       "Source              object\n",
       "Destination         object\n",
       "Route               object\n",
       "Duration             int64\n",
       "Total_Stops        float64\n",
       "Additional_Info     object\n",
       "Price              float64\n",
       "source              object\n",
       "Month              float64\n",
       "Dep_hour             int64\n",
       "Dep_min              int64\n",
       "Arrival_hour         int64\n",
       "Arrival_min          int64\n",
       "dtype: object"
      ]
     },
     "execution_count": 46,
     "metadata": {},
     "output_type": "execute_result"
    }
   ],
   "source": [
    "df.dtypes"
   ]
  },
  {
   "cell_type": "code",
   "execution_count": 47,
   "id": "6893375d",
   "metadata": {},
   "outputs": [
    {
     "name": "stdout",
     "output_type": "stream",
     "text": [
      "Object variables:\n",
      "['Airline', 'Source', 'Destination', 'Route', 'Additional_Info', 'source']\n"
     ]
    }
   ],
   "source": [
    "s = (df.dtypes == 'object')\n",
    "obj_cols = list(s[s].index)\n",
    "\n",
    "print(\"Object variables:\")\n",
    "print(obj_cols)"
   ]
  },
  {
   "cell_type": "code",
   "execution_count": 48,
   "id": "f96ce340",
   "metadata": {},
   "outputs": [],
   "source": [
    "obj_cols.remove('source')"
   ]
  },
  {
   "cell_type": "code",
   "execution_count": 49,
   "id": "e5193cbb",
   "metadata": {},
   "outputs": [],
   "source": [
    "from sklearn.preprocessing import LabelEncoder\n",
    "\n",
    "label_encoder = LabelEncoder()\n",
    "for col in obj_cols:\n",
    "    df[col] = label_encoder.fit_transform(df[col])"
   ]
  },
  {
   "cell_type": "code",
   "execution_count": 50,
   "id": "b9b89449",
   "metadata": {},
   "outputs": [
    {
     "data": {
      "text/plain": [
       "Airline              int32\n",
       "Source               int32\n",
       "Destination          int32\n",
       "Route                int32\n",
       "Duration             int64\n",
       "Total_Stops        float64\n",
       "Additional_Info      int32\n",
       "Price              float64\n",
       "source              object\n",
       "Month              float64\n",
       "Dep_hour             int64\n",
       "Dep_min              int64\n",
       "Arrival_hour         int64\n",
       "Arrival_min          int64\n",
       "dtype: object"
      ]
     },
     "execution_count": 50,
     "metadata": {},
     "output_type": "execute_result"
    }
   ],
   "source": [
    "df.dtypes"
   ]
  },
  {
   "cell_type": "markdown",
   "id": "467e9c2b",
   "metadata": {},
   "source": [
    "# Separating train and test from dataset"
   ]
  },
  {
   "cell_type": "markdown",
   "id": "199f6210",
   "metadata": {},
   "source": [
    "Now we are through with data analysis and data cleaning, we will split the dataset back to train and test."
   ]
  },
  {
   "cell_type": "code",
   "execution_count": 51,
   "id": "dbc4d866",
   "metadata": {},
   "outputs": [],
   "source": [
    "train = df.loc[df['source'] == 'train']\n",
    "test = df.loc[df['source'] == 'test']"
   ]
  },
  {
   "cell_type": "code",
   "execution_count": 52,
   "id": "eb3cf8d1",
   "metadata": {},
   "outputs": [],
   "source": [
    "train.drop('source', axis = 1, inplace = True)\n",
    "test.drop('source', axis = 1, inplace = True)\n",
    "test.drop('Price', axis = 1, inplace = True)"
   ]
  },
  {
   "cell_type": "code",
   "execution_count": 53,
   "id": "6002347e",
   "metadata": {},
   "outputs": [
    {
     "data": {
      "text/plain": [
       "((10683, 13), (2671, 12))"
      ]
     },
     "execution_count": 53,
     "metadata": {},
     "output_type": "execute_result"
    }
   ],
   "source": [
    "train.shape, test.shape"
   ]
  },
  {
   "cell_type": "code",
   "execution_count": 54,
   "id": "a96b057d",
   "metadata": {},
   "outputs": [],
   "source": [
    "x = train.drop('Price', axis = 1)\n",
    "y = train['Price']"
   ]
  },
  {
   "cell_type": "markdown",
   "id": "bae06d83",
   "metadata": {},
   "source": [
    "# Best Random State"
   ]
  },
  {
   "cell_type": "code",
   "execution_count": 55,
   "id": "e530e0d3",
   "metadata": {},
   "outputs": [
    {
     "name": "stdout",
     "output_type": "stream",
     "text": [
      "Max R2 score obtained is 0.46850448371884457 on Random State 371\n"
     ]
    }
   ],
   "source": [
    "maxr2score = 0\n",
    "maxRS = 0\n",
    "\n",
    "for i in range (1, 500):\n",
    "    x_train, x_test, y_train, y_test = train_test_split(x, y, test_size = 0.30, random_state = i)\n",
    "    LR = LinearRegression()\n",
    "    LR.fit(x_train, y_train)\n",
    "    predrf = LR.predict(x_test)\n",
    "    r2 = r2_score(y_test, predrf)\n",
    "    if r2>maxr2score:\n",
    "        maxr2score = r2\n",
    "        maxRS = i\n",
    "print ('Max R2 score obtained is', maxr2score, 'on Random State', maxRS)"
   ]
  },
  {
   "cell_type": "markdown",
   "id": "16ed6a40",
   "metadata": {},
   "source": [
    "# Creating train test split"
   ]
  },
  {
   "cell_type": "code",
   "execution_count": 56,
   "id": "5bff78aa",
   "metadata": {},
   "outputs": [],
   "source": [
    "x_train, x_test, y_train, y_test = train_test_split(x, y, test_size = 0.30, random_state = 371)"
   ]
  },
  {
   "cell_type": "code",
   "execution_count": 57,
   "id": "7b4ff1a5",
   "metadata": {},
   "outputs": [
    {
     "name": "stdout",
     "output_type": "stream",
     "text": [
      "LinearRegression()\n",
      "0.46850448371884457\n",
      "10305642.003672339\n",
      "2440.9343033261807\n",
      "DecisionTreeRegressor()\n",
      "0.4919981159564091\n",
      "9850102.952467626\n",
      "1181.9017077453661\n",
      "RandomForestRegressor()\n",
      "0.7740281745659174\n",
      "4381569.861838859\n",
      "1038.7447934286683\n"
     ]
    }
   ],
   "source": [
    "\n",
    "LR = LinearRegression()\n",
    "dt = DecisionTreeRegressor()\n",
    "rf = RandomForestRegressor()\n",
    "\n",
    "models = [LR, dt, rf]\n",
    "for i in models:\n",
    "    print (i)\n",
    "    i.fit(x_train, y_train)\n",
    "    pred = i.predict(x_test)\n",
    "    print (r2_score(y_test, pred))\n",
    "    print (mean_squared_error(y_test, pred))\n",
    "    print (mean_absolute_error(y_test, pred))"
   ]
  },
  {
   "cell_type": "code",
   "execution_count": 58,
   "id": "490df42b",
   "metadata": {},
   "outputs": [
    {
     "name": "stdout",
     "output_type": "stream",
     "text": [
      "Cross Validation Score for  LinearRegression()  model is : 0.4151655281431531\n",
      " \n",
      "Cross Validation Score for  DecisionTreeRegressor()  model is : 0.6639771648088615\n",
      " \n",
      "Cross Validation Score for  RandomForestRegressor()  model is : 0.7342816071505308\n",
      " \n"
     ]
    }
   ],
   "source": [
    "\n",
    "for i in models:\n",
    "    cvs = cross_val_score(i, x, y, cv = 5)\n",
    "    print ('Cross Validation Score for ',i, ' model is :', cvs.mean())\n",
    "    print (' ')"
   ]
  },
  {
   "cell_type": "markdown",
   "id": "e1e0c826",
   "metadata": {},
   "source": [
    "# Hypertuning"
   ]
  },
  {
   "cell_type": "code",
   "execution_count": 59,
   "id": "92c27bdd",
   "metadata": {},
   "outputs": [],
   "source": [
    "from sklearn.model_selection import GridSearchCV"
   ]
  },
  {
   "cell_type": "code",
   "execution_count": 60,
   "id": "1311b6c4",
   "metadata": {},
   "outputs": [],
   "source": [
    "param_grid = { \n",
    "    'n_estimators': [200, 500],\n",
    "    'max_features': ['auto', 'sqrt', 'log2'],\n",
    "    'max_depth' : [4,5,6,7,8],\n",
    "    'criterion' :['mse', 'mae']\n",
    "}"
   ]
  },
  {
   "cell_type": "code",
   "execution_count": 62,
   "id": "d029cdf3",
   "metadata": {},
   "outputs": [
    {
     "name": "stdout",
     "output_type": "stream",
     "text": [
      "0.7837761806902204\n",
      "4192557.051214263\n",
      "1289.236490908964\n"
     ]
    }
   ],
   "source": [
    "rfr = RandomForestRegressor(random_state=371, max_features='auto', n_estimators= 200, max_depth=8, criterion='mse')\n",
    "rfr.fit(x_train, y_train)\n",
    "predrfr = rfr.predict(x_test)\n",
    "print (r2_score(y_test, predrfr))\n",
    "print (mean_squared_error(y_test, predrfr))\n",
    "print (mean_absolute_error(y_test, predrfr))"
   ]
  },
  {
   "cell_type": "code",
   "execution_count": 63,
   "id": "c1559ee4",
   "metadata": {},
   "outputs": [
    {
     "name": "stdout",
     "output_type": "stream",
     "text": [
      "Cross Validation Score for  RandomForestRegressor(max_depth=8, n_estimators=200, random_state=371)  model is : 0.7405696541429008\n"
     ]
    }
   ],
   "source": [
    "cvs = cross_val_score(rfr, x, y, cv = 5)\n",
    "print ('Cross Validation Score for ',rfr, ' model is :', cvs.mean())"
   ]
  },
  {
   "cell_type": "markdown",
   "id": "6d6f14bb",
   "metadata": {},
   "source": [
    "After hypertuning with gridsearchcv our models R2 score increased to 78 from 76 and cv score also increased from 73 to 74."
   ]
  },
  {
   "cell_type": "code",
   "execution_count": 64,
   "id": "5bdc24e5",
   "metadata": {},
   "outputs": [
    {
     "data": {
      "image/png": "[encoded data removed]",
      "text/plain": [
       "<Figure size 1440x1080 with 1 Axes>"
      ]
     },
     "metadata": {
      "needs_background": "light"
     },
     "output_type": "display_data"
    }
   ],
   "source": [
    "plt.figure(figsize = (20, 15))\n",
    "plt.scatter(x = y_test, y = predrfr, color = 'g')\n",
    "plt.plot(y_test, y_test, color = 'b')\n",
    "plt.xlabel('Actual Price', fontsize = 14)\n",
    "plt.ylabel('Predicted Price', fontsize = 14)\n",
    "plt.title('Linear Regression', fontsize = 18)\n",
    "plt.show()"
   ]
  },
  {
   "cell_type": "code",
   "execution_count": 65,
   "id": "da986018",
   "metadata": {},
   "outputs": [],
   "source": [
    "import pickle\n",
    "\n",
    "filename = 'FlightRfr.pkl'\n",
    "pickle.dump(rfr, open(filename, 'wb'))"
   ]
  },
  {
   "cell_type": "markdown",
   "id": "75fd58b7",
   "metadata": {},
   "source": [
    "# Using the Test set"
   ]
  },
  {
   "cell_type": "code",
   "execution_count": 66,
   "id": "188c9d7b",
   "metadata": {},
   "outputs": [
    {
     "data": {
      "text/plain": [
       "RandomForestRegressor(max_depth=8, n_estimators=200, random_state=371)"
      ]
     },
     "execution_count": 66,
     "metadata": {},
     "output_type": "execute_result"
    }
   ],
   "source": [
    "fitted_model = pickle.load(open('FlightRfr.pkl', 'rb'))\n",
    "fitted_model"
   ]
  },
  {
   "cell_type": "code",
   "execution_count": 67,
   "id": "bf14bf42",
   "metadata": {},
   "outputs": [
    {
     "data": {
      "text/plain": [
       "array([14724.18536242,  5070.10020935, 12393.81398843, ...,\n",
       "       14810.27196705, 10716.49102315,  9506.14478279])"
      ]
     },
     "execution_count": 67,
     "metadata": {},
     "output_type": "execute_result"
    }
   ],
   "source": [
    "predictions = fitted_model.predict(test)\n",
    "predictions"
   ]
  }
 ],
 "metadata": {
  "kernelspec": {
   "display_name": "Python 3",
   "language": "python",
   "name": "python3"
  },
  "language_info": {
   "codemirror_mode": {
    "name": "ipython",
    "version": 3
   },
   "file_extension": ".py",
   "mimetype": "text/x-python",
   "name": "python",
   "nbconvert_exporter": "python",
   "pygments_lexer": "ipython3",
   "version": "3.8.8"
  }
 },
 "nbformat": 4,
 "nbformat_minor": 5
}
